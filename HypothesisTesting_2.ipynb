{
 "cells": [
  {
   "cell_type": "markdown",
   "metadata": {},
   "source": [
    "# Hypothesis Testing - part 2\n",
    "\n",
    "As stated in the 1st part, this notebook will deal with the definition and exemplification of A/B testing, crucial in day-to-day business operations, as well as Hypothesis Testing sensitivity. We will explore concepts such as Minimum Detectable Effect, CUPED, CUPAC and other metric analysis techninques useful in A/B testing and data-driven decision making.\n",
    "\n",
    "## Index:\n",
    "\n",
    "\n",
    "**Libraries used:**"
   ]
  },
  {
   "cell_type": "code",
   "execution_count": 1,
   "metadata": {},
   "outputs": [],
   "source": [
    "import numpy as np\n",
    "import pandas as pd\n",
    "import matplotlib.pyplot as plt\n",
    "import seaborn as sns\n",
    "import scipy.stats as stats"
   ]
  },
  {
   "cell_type": "markdown",
   "metadata": {},
   "source": [
    "## 1. A/B Testing\n",
    "\n",
    "A/B testing is a form of two-sample (in this case) Z-Test, since it is normally used used to compare two versions of a product, website, ad, or feature to determine which one performs better (and therefore sample sizes are ussually large). It is widely used in marketing, UX design, and product optimization. \n",
    "\n",
    "We essentially compare Group A (control group), which is the baseline, and Group B, which is the modified version. Usually there is a division of users between the 2 groups randomly to avoid bias and then proceed with the collection of data and the conduction of this test. Metrics collected to use in this test include, for example:\n",
    "\n",
    "- Conversion Rate (CR): Percentage of users completing a desired action.\n",
    "- Click-Through Rate (CTR): Percentage of users who clicked on a link.\n",
    "- Bounce Rate: Percentage of users who leave without engaging.\n",
    "- Revenue per User: How much revenue is generated per visitor.\n",
    "\n",
    "The hypothesis are essentially the same as in every two-sample test: either there isn't or is a significant difference between the 2 versions. Since it is a Z-test (because of the sample size and we are testing for the proportions (nature of the metrics presented)), Central Limit Theorem is applicable to the score formula, which results in:\n",
    "\n",
    "$$\n",
    "Z = \\frac{p_B - p_A}{\\sqrt{SE_A^2 + SE_B^2}}\n",
    "$$\n",
    "\n",
    "where $p_A$ and $p_B$ are the observed metric, usually rates, since it is in percentage (**proportions**); $SE_A$ and $SE_B$ are are the observed conversion rates, and the denominator represents the standard error of the difference in proportions.\n",
    "\n",
    "Here is an example case:\n",
    "\n",
    "A company wants to test two call-to-action (CTA) buttons:\n",
    "\n",
    "- A (Control): \"Sign Up Now\"\n",
    "- B (Treatment): \"Get Started\"\n",
    "\n",
    "the test runs for a period of time, with the following results:\n",
    "\n",
    "| Group | Visitors | Conversions | Conversion Rate |\n",
    "|-------|----------|------------|----------------|\n",
    "| A     | 10,000  | 500        | 5%             |\n",
    "| B     | 10,000  | 600        | 6%             |\n",
    "\n",
    "This results in the following **Hypothesis Test**, with a significance level of 5%:\n",
    "\n",
    "- Null Hypothesis (H₀): No difference between A and B.\n",
    "- Alternative Hypothesis (H₁): A significant difference exists."
   ]
  },
  {
   "cell_type": "code",
   "execution_count": 2,
   "metadata": {},
   "outputs": [
    {
     "name": "stdout",
     "output_type": "stream",
     "text": [
      "Conversion Rate A: 0.0500\n",
      "Conversion Rate B: 0.0600\n",
      "Z-score: 3.10\n",
      "p-value: 0.0019\n",
      "Conclusion: Reject H₀. There is a significant difference between the two variations.\n"
     ]
    }
   ],
   "source": [
    "# Data from the scenario\n",
    "n_A = 10000  # Number of visitors in group A\n",
    "n_B = 10000  # Number of visitors in group B\n",
    "conv_A = 500  # Conversions in group A\n",
    "conv_B = 600  # Conversions in group B\n",
    "\n",
    "# Compute conversion rates\n",
    "p_A = conv_A / n_A\n",
    "p_B = conv_B / n_B\n",
    "\n",
    "# Compute standard error for each group\n",
    "se_A = np.sqrt((p_A * (1 - p_A)) / n_A)\n",
    "se_B = np.sqrt((p_B * (1 - p_B)) / n_B)\n",
    "\n",
    "# Compute standard error of the difference\n",
    "se_diff = np.sqrt(se_A**2 + se_B**2)\n",
    "\n",
    "# Compute Z-score\n",
    "z_score = (p_B - p_A) / se_diff\n",
    "\n",
    "# Compute p-value (two-tailed test)\n",
    "p_value = 2 * (1 - stats.norm.cdf(abs(z_score)))\n",
    "\n",
    "# Print results\n",
    "print(f\"Conversion Rate A: {p_A:.4f}\")\n",
    "print(f\"Conversion Rate B: {p_B:.4f}\")\n",
    "print(f\"Z-score: {z_score:.2f}\")\n",
    "print(f\"p-value: {p_value:.4f}\")\n",
    "\n",
    "# Decision\n",
    "alpha = 0.05\n",
    "if p_value < alpha:\n",
    "    print(\"Conclusion: Reject H₀. There is a significant difference between the two variations.\")\n",
    "else:\n",
    "    print(\"Conclusion: Fail to reject H₀. No significant difference between the variations.\")"
   ]
  },
  {
   "cell_type": "markdown",
   "metadata": {},
   "source": []
  }
 ],
 "metadata": {
  "kernelspec": {
   "display_name": "stat_ml",
   "language": "python",
   "name": "python3"
  },
  "language_info": {
   "codemirror_mode": {
    "name": "ipython",
    "version": 3
   },
   "file_extension": ".py",
   "mimetype": "text/x-python",
   "name": "python",
   "nbconvert_exporter": "python",
   "pygments_lexer": "ipython3",
   "version": "3.11.11"
  }
 },
 "nbformat": 4,
 "nbformat_minor": 2
}
